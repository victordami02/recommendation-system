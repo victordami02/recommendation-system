{
 "cells": [
  {
   "cell_type": "markdown",
   "id": "a0daa329",
   "metadata": {},
   "source": [
    "# Movie/Tv Show Recommendation System"
   ]
  },
  {
   "cell_type": "markdown",
   "id": "40b55d00",
   "metadata": {},
   "source": [
    "## Introduction\n",
    "- Recommender systems (RSs) are everywhere. Amazon, Netflix, Spotify, YouTube, and many more services and apps we use every day have in the backend some sort of recommendation engine.\n",
    "\n",
    "- RSs help users to find items they are interested in, and this can increase engagement on the platform: if a platform suggests items of interest, users will spend more time on that platform.\n",
    "\n",
    "- There are many techniques and strategies to build modern and powerful RSs based on specific application domains\n",
    "- I am using the content based techniques for building this system."
   ]
  },
  {
   "cell_type": "markdown",
   "id": "bba599fc",
   "metadata": {},
   "source": [
    "## So, in this kernel, we'll be building a Movie/ TV Show Recommendation System using those datasets:\n",
    "\n",
    "- Paramount+ Movies and TV Shows\n",
    "- Disney+ Movies and TV Shows\n",
    "- AppleTV+ Movies and TV Shows\n",
    "- Amazon Prime Movies and TV Shows\n",
    "- HBO Max Movies and TV Shows\n",
    "- Netflix Movies and TV Shows"
   ]
  },
  {
   "cell_type": "code",
   "execution_count": 3,
   "id": "8e53bc5f",
   "metadata": {},
   "outputs": [],
   "source": [
    "import pandas as pd\n",
    "import numpy as np\n",
    "\n",
    "import matplotlib.pyplot as plt\n",
    "import missingno as msno\n",
    "%matplotlib inline\n",
    "\n",
    "from sklearn.feature_extraction.text import TfidfVectorizer\n",
    "from sklearn.metrics.pairwise import linear_kernel"
   ]
  },
  {
   "cell_type": "code",
   "execution_count": 2,
   "id": "34ccc01b",
   "metadata": {},
   "outputs": [
    {
     "name": "stdout",
     "output_type": "stream",
     "text": [
      "Collecting missingno\n",
      "  Downloading missingno-0.5.2-py3-none-any.whl (8.7 kB)\n",
      "Requirement already satisfied: numpy in /Users/mac/opt/anaconda3/lib/python3.9/site-packages (from missingno) (1.21.5)\n",
      "Requirement already satisfied: seaborn in /Users/mac/opt/anaconda3/lib/python3.9/site-packages (from missingno) (0.11.2)\n",
      "Requirement already satisfied: scipy in /Users/mac/opt/anaconda3/lib/python3.9/site-packages (from missingno) (1.9.1)\n",
      "Requirement already satisfied: matplotlib in /Users/mac/opt/anaconda3/lib/python3.9/site-packages (from missingno) (3.5.2)\n",
      "Requirement already satisfied: kiwisolver>=1.0.1 in /Users/mac/opt/anaconda3/lib/python3.9/site-packages (from matplotlib->missingno) (1.4.2)\n",
      "Requirement already satisfied: pillow>=6.2.0 in /Users/mac/opt/anaconda3/lib/python3.9/site-packages (from matplotlib->missingno) (9.2.0)\n",
      "Requirement already satisfied: python-dateutil>=2.7 in /Users/mac/opt/anaconda3/lib/python3.9/site-packages (from matplotlib->missingno) (2.8.2)\n",
      "Requirement already satisfied: packaging>=20.0 in /Users/mac/opt/anaconda3/lib/python3.9/site-packages (from matplotlib->missingno) (21.3)\n",
      "Requirement already satisfied: cycler>=0.10 in /Users/mac/opt/anaconda3/lib/python3.9/site-packages (from matplotlib->missingno) (0.11.0)\n",
      "Requirement already satisfied: pyparsing>=2.2.1 in /Users/mac/opt/anaconda3/lib/python3.9/site-packages (from matplotlib->missingno) (3.0.9)\n",
      "Requirement already satisfied: fonttools>=4.22.0 in /Users/mac/opt/anaconda3/lib/python3.9/site-packages (from matplotlib->missingno) (4.25.0)\n",
      "Requirement already satisfied: pandas>=0.23 in /Users/mac/opt/anaconda3/lib/python3.9/site-packages (from seaborn->missingno) (1.4.4)\n",
      "Requirement already satisfied: pytz>=2020.1 in /Users/mac/opt/anaconda3/lib/python3.9/site-packages (from pandas>=0.23->seaborn->missingno) (2022.1)\n",
      "Requirement already satisfied: six>=1.5 in /Users/mac/opt/anaconda3/lib/python3.9/site-packages (from python-dateutil>=2.7->matplotlib->missingno) (1.16.0)\n",
      "Installing collected packages: missingno\n",
      "Successfully installed missingno-0.5.2\n",
      "Note: you may need to restart the kernel to use updated packages.\n"
     ]
    }
   ],
   "source": [
    "#pip install missingno"
   ]
  },
  {
   "cell_type": "code",
   "execution_count": null,
   "id": "9f1cebc6",
   "metadata": {},
   "outputs": [],
   "source": [
    "# Read in the datas\n",
    "amazon_titles = pd.read_csv(\"/kaggle/input/amazon-prime-movies-and-tv-shows/titles.csv\")\n",
    "appletv_titles = pd.read_csv(\"/kaggle/input/apple-tv-movies-and-tv-shows/titles.csv\")\n",
    "disney_titles = pd.read_csv(\"/kaggle/input/disney-movies-and-tv-shows/titles.csv\")\n",
    "hbo_titles = pd.read_csv(\"/kaggle/input/hbo-max-movies-and-tv-shows/titles.csv\")\n",
    "netflix_titles = pd.read_csv(\"/kaggle/input/netflix-movies-and-tv-shows/titles.csv\")\n",
    "paramount_titles = pd.read_csv(\"/kaggle/input/paramount-movies-and-tv-shows/titles.csv\")"
   ]
  }
 ],
 "metadata": {
  "kernelspec": {
   "display_name": "Python 3 (ipykernel)",
   "language": "python",
   "name": "python3"
  },
  "language_info": {
   "codemirror_mode": {
    "name": "ipython",
    "version": 3
   },
   "file_extension": ".py",
   "mimetype": "text/x-python",
   "name": "python",
   "nbconvert_exporter": "python",
   "pygments_lexer": "ipython3",
   "version": "3.9.13"
  }
 },
 "nbformat": 4,
 "nbformat_minor": 5
}
