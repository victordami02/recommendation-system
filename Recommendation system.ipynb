{
 "cells": [
  {
   "cell_type": "markdown",
   "id": "51c012cd",
   "metadata": {},
   "source": [
    "# Movie/Tv Show Recommendation System"
   ]
  },
  {
   "cell_type": "markdown",
   "id": "d6d18d2f",
   "metadata": {},
   "source": [
    "## Introduction\n",
    "- Recommender systems (RSs) are everywhere. Amazon, Netflix, Spotify, YouTube, and many more services and apps we use every day have in the backend some sort of recommendation engine.\n",
    "\n",
    "- RSs help users to find items they are interested in, and this can increase engagement on the platform: if a platform suggests items of interest, users will spend more time on that platform.\n",
    "\n",
    "- There are many techniques and strategies to build modern and powerful RSs based on specific application domains\n",
    "- I am using the content based techniques for building this system."
   ]
  },
  {
   "cell_type": "markdown",
   "id": "7cf5feb6",
   "metadata": {},
   "source": [
    "## So, in this kernel, we'll be building a Movie/ TV Show Recommendation System using those datasets:\n",
    "\n",
    "- Paramount+ Movies and TV Shows\n",
    "- Disney+ Movies and TV Shows\n",
    "- AppleTV+ Movies and TV Shows\n",
    "- Amazon Prime Movies and TV Shows\n",
    "- HBO Max Movies and TV Shows\n",
    "- Netflix Movies and TV Shows"
   ]
  },
  {
   "cell_type": "code",
   "execution_count": 1,
   "id": "a1ed713b",
   "metadata": {},
   "outputs": [
    {
     "data": {
      "text/plain": [
       "'/Users/mac/Documents/recommendation project'"
      ]
     },
     "execution_count": 1,
     "metadata": {},
     "output_type": "execute_result"
    }
   ],
   "source": [
    "pwd"
   ]
  },
  {
   "cell_type": "code",
   "execution_count": 2,
   "id": "be6b1b7f",
   "metadata": {},
   "outputs": [],
   "source": [
    "import pandas as pd\n",
    "import numpy as np\n",
    "\n",
    "import matplotlib.pyplot as plt\n",
    "import missingno as msno\n",
    "%matplotlib inline\n",
    "\n",
    "from sklearn.feature_extraction.text import TfidfVectorizer\n",
    "from sklearn.metrics.pairwise import linear_kernel"
   ]
  },
  {
   "cell_type": "code",
   "execution_count": 3,
   "id": "8df7b9ae",
   "metadata": {},
   "outputs": [],
   "source": [
    "amazon_titles = pd.read_csv(\"amazon.csv\")\n",
    "appletv_titles = pd.read_csv(\"appletv.csv\")\n",
    "disney_titles = pd.read_csv(\"disney.csv\")\n",
    "hbo_titles = pd.read_csv(\"hbo.csv\")\n",
    "netflix_titles = pd.read_csv(\"netflix.csv\")\n",
    "paramount_titles = pd.read_csv(\"paramount.csv\")"
   ]
  },
  {
   "cell_type": "code",
   "execution_count": 5,
   "id": "8f9035e4",
   "metadata": {},
   "outputs": [
    {
     "data": {
      "text/plain": [
       "(10873, 15)"
      ]
     },
     "execution_count": 5,
     "metadata": {},
     "output_type": "execute_result"
    }
   ],
   "source": [
    "amazon_titles.shape"
   ]
  },
  {
   "cell_type": "code",
   "execution_count": 14,
   "id": "138e3f83",
   "metadata": {},
   "outputs": [],
   "source": [
    "# concatination\n",
    "titles = pd.concat([amazon_titles, appletv_titles, disney_titles, hbo_titles, netflix_titles, paramount_titles],axis=0).reset_index()"
   ]
  },
  {
   "cell_type": "code",
   "execution_count": 15,
   "id": "7bfff1b4",
   "metadata": {},
   "outputs": [
    {
     "data": {
      "text/html": [
       "<div>\n",
       "<style scoped>\n",
       "    .dataframe tbody tr th:only-of-type {\n",
       "        vertical-align: middle;\n",
       "    }\n",
       "\n",
       "    .dataframe tbody tr th {\n",
       "        vertical-align: top;\n",
       "    }\n",
       "\n",
       "    .dataframe thead th {\n",
       "        text-align: right;\n",
       "    }\n",
       "</style>\n",
       "<table border=\"1\" class=\"dataframe\">\n",
       "  <thead>\n",
       "    <tr style=\"text-align: right;\">\n",
       "      <th></th>\n",
       "      <th>id</th>\n",
       "      <th>title</th>\n",
       "      <th>type</th>\n",
       "      <th>description</th>\n",
       "      <th>release_year</th>\n",
       "      <th>age_certification</th>\n",
       "      <th>runtime</th>\n",
       "      <th>genres</th>\n",
       "      <th>production_countries</th>\n",
       "      <th>seasons</th>\n",
       "      <th>imdb_id</th>\n",
       "      <th>imdb_score</th>\n",
       "      <th>imdb_votes</th>\n",
       "      <th>tmdb_popularity</th>\n",
       "      <th>tmdb_score</th>\n",
       "    </tr>\n",
       "  </thead>\n",
       "  <tbody>\n",
       "    <tr>\n",
       "      <th>0</th>\n",
       "      <td>tm87233</td>\n",
       "      <td>It's a Wonderful Life</td>\n",
       "      <td>MOVIE</td>\n",
       "      <td>A holiday favourite for generations...  George...</td>\n",
       "      <td>1946</td>\n",
       "      <td>PG</td>\n",
       "      <td>130</td>\n",
       "      <td>['drama', 'family', 'fantasy', 'romance', 'com...</td>\n",
       "      <td>['US']</td>\n",
       "      <td>NaN</td>\n",
       "      <td>tt0038650</td>\n",
       "      <td>8.6</td>\n",
       "      <td>467766.0</td>\n",
       "      <td>27.611</td>\n",
       "      <td>8.261</td>\n",
       "    </tr>\n",
       "    <tr>\n",
       "      <th>1</th>\n",
       "      <td>tm143047</td>\n",
       "      <td>Duck Soup</td>\n",
       "      <td>MOVIE</td>\n",
       "      <td>Rufus T. Firefly is named president/dictator o...</td>\n",
       "      <td>1933</td>\n",
       "      <td>NaN</td>\n",
       "      <td>69</td>\n",
       "      <td>['comedy', 'war']</td>\n",
       "      <td>['US']</td>\n",
       "      <td>NaN</td>\n",
       "      <td>tt0023969</td>\n",
       "      <td>7.8</td>\n",
       "      <td>60933.0</td>\n",
       "      <td>9.013</td>\n",
       "      <td>7.357</td>\n",
       "    </tr>\n",
       "    <tr>\n",
       "      <th>2</th>\n",
       "      <td>tm83884</td>\n",
       "      <td>His Girl Friday</td>\n",
       "      <td>MOVIE</td>\n",
       "      <td>Hildy, the journalist former wife of newspaper...</td>\n",
       "      <td>1940</td>\n",
       "      <td>NaN</td>\n",
       "      <td>92</td>\n",
       "      <td>['drama', 'romance', 'comedy']</td>\n",
       "      <td>['US']</td>\n",
       "      <td>NaN</td>\n",
       "      <td>tt0032599</td>\n",
       "      <td>7.8</td>\n",
       "      <td>60244.0</td>\n",
       "      <td>14.759</td>\n",
       "      <td>7.433</td>\n",
       "    </tr>\n",
       "    <tr>\n",
       "      <th>3</th>\n",
       "      <td>ts20945</td>\n",
       "      <td>The Three Stooges</td>\n",
       "      <td>SHOW</td>\n",
       "      <td>The Three Stooges were an American vaudeville ...</td>\n",
       "      <td>1934</td>\n",
       "      <td>TV-PG</td>\n",
       "      <td>19</td>\n",
       "      <td>['comedy', 'family']</td>\n",
       "      <td>['US']</td>\n",
       "      <td>26.0</td>\n",
       "      <td>tt0850645</td>\n",
       "      <td>8.5</td>\n",
       "      <td>1149.0</td>\n",
       "      <td>15.424</td>\n",
       "      <td>7.600</td>\n",
       "    </tr>\n",
       "    <tr>\n",
       "      <th>4</th>\n",
       "      <td>tm5012</td>\n",
       "      <td>Red River</td>\n",
       "      <td>MOVIE</td>\n",
       "      <td>Headstrong Thomas Dunson starts a thriving Tex...</td>\n",
       "      <td>1948</td>\n",
       "      <td>NaN</td>\n",
       "      <td>133</td>\n",
       "      <td>['western', 'drama', 'romance', 'action']</td>\n",
       "      <td>['US']</td>\n",
       "      <td>NaN</td>\n",
       "      <td>tt0040724</td>\n",
       "      <td>7.8</td>\n",
       "      <td>32210.0</td>\n",
       "      <td>12.400</td>\n",
       "      <td>7.400</td>\n",
       "    </tr>\n",
       "  </tbody>\n",
       "</table>\n",
       "</div>"
      ],
      "text/plain": [
       "         id                  title   type  \\\n",
       "0   tm87233  It's a Wonderful Life  MOVIE   \n",
       "1  tm143047              Duck Soup  MOVIE   \n",
       "2   tm83884        His Girl Friday  MOVIE   \n",
       "3   ts20945      The Three Stooges   SHOW   \n",
       "4    tm5012              Red River  MOVIE   \n",
       "\n",
       "                                         description  release_year  \\\n",
       "0  A holiday favourite for generations...  George...          1946   \n",
       "1  Rufus T. Firefly is named president/dictator o...          1933   \n",
       "2  Hildy, the journalist former wife of newspaper...          1940   \n",
       "3  The Three Stooges were an American vaudeville ...          1934   \n",
       "4  Headstrong Thomas Dunson starts a thriving Tex...          1948   \n",
       "\n",
       "  age_certification  runtime  \\\n",
       "0                PG      130   \n",
       "1               NaN       69   \n",
       "2               NaN       92   \n",
       "3             TV-PG       19   \n",
       "4               NaN      133   \n",
       "\n",
       "                                              genres production_countries  \\\n",
       "0  ['drama', 'family', 'fantasy', 'romance', 'com...               ['US']   \n",
       "1                                  ['comedy', 'war']               ['US']   \n",
       "2                     ['drama', 'romance', 'comedy']               ['US']   \n",
       "3                               ['comedy', 'family']               ['US']   \n",
       "4          ['western', 'drama', 'romance', 'action']               ['US']   \n",
       "\n",
       "   seasons    imdb_id  imdb_score  imdb_votes  tmdb_popularity  tmdb_score  \n",
       "0      NaN  tt0038650         8.6    467766.0           27.611       8.261  \n",
       "1      NaN  tt0023969         7.8     60933.0            9.013       7.357  \n",
       "2      NaN  tt0032599         7.8     60244.0           14.759       7.433  \n",
       "3     26.0  tt0850645         8.5      1149.0           15.424       7.600  \n",
       "4      NaN  tt0040724         7.8     32210.0           12.400       7.400  "
      ]
     },
     "execution_count": 15,
     "metadata": {},
     "output_type": "execute_result"
    }
   ],
   "source": [
    "titles.drop(['index'], axis=1, inplace=True)\n",
    "titles.head()"
   ]
  },
  {
   "cell_type": "markdown",
   "id": "5a6560a2",
   "metadata": {},
   "source": [
    "# Data cleaning"
   ]
  },
  {
   "cell_type": "code",
   "execution_count": 16,
   "id": "aafaced7",
   "metadata": {},
   "outputs": [
    {
     "data": {
      "text/html": [
       "<div>\n",
       "<style scoped>\n",
       "    .dataframe tbody tr th:only-of-type {\n",
       "        vertical-align: middle;\n",
       "    }\n",
       "\n",
       "    .dataframe tbody tr th {\n",
       "        vertical-align: top;\n",
       "    }\n",
       "\n",
       "    .dataframe thead th {\n",
       "        text-align: right;\n",
       "    }\n",
       "</style>\n",
       "<table border=\"1\" class=\"dataframe\">\n",
       "  <thead>\n",
       "    <tr style=\"text-align: right;\">\n",
       "      <th></th>\n",
       "      <th>id</th>\n",
       "      <th>title</th>\n",
       "      <th>type</th>\n",
       "      <th>description</th>\n",
       "      <th>release_year</th>\n",
       "      <th>age_certification</th>\n",
       "      <th>runtime</th>\n",
       "      <th>genres</th>\n",
       "      <th>production_countries</th>\n",
       "      <th>seasons</th>\n",
       "      <th>imdb_id</th>\n",
       "      <th>imdb_score</th>\n",
       "      <th>imdb_votes</th>\n",
       "      <th>tmdb_popularity</th>\n",
       "      <th>tmdb_score</th>\n",
       "    </tr>\n",
       "  </thead>\n",
       "  <tbody>\n",
       "    <tr>\n",
       "      <th>11321</th>\n",
       "      <td>tm57241</td>\n",
       "      <td>Never Been Kissed</td>\n",
       "      <td>MOVIE</td>\n",
       "      <td>Josie Geller, a baby-faced junior copywriter a...</td>\n",
       "      <td>1999</td>\n",
       "      <td>PG-13</td>\n",
       "      <td>107</td>\n",
       "      <td>['comedy', 'drama', 'romance']</td>\n",
       "      <td>['US']</td>\n",
       "      <td>NaN</td>\n",
       "      <td>tt0151738</td>\n",
       "      <td>6.0</td>\n",
       "      <td>93238.0</td>\n",
       "      <td>17.420</td>\n",
       "      <td>6.180</td>\n",
       "    </tr>\n",
       "    <tr>\n",
       "      <th>11387</th>\n",
       "      <td>ts22130</td>\n",
       "      <td>Rolie Polie Olie</td>\n",
       "      <td>SHOW</td>\n",
       "      <td>Rolie Polie Olie was a children's television s...</td>\n",
       "      <td>1998</td>\n",
       "      <td>TV-Y</td>\n",
       "      <td>21</td>\n",
       "      <td>['animation', 'comedy', 'family', 'fantasy', '...</td>\n",
       "      <td>['CA', 'FR', 'US', 'GB']</td>\n",
       "      <td>6.0</td>\n",
       "      <td>tt0172049</td>\n",
       "      <td>6.3</td>\n",
       "      <td>3012.0</td>\n",
       "      <td>13.848</td>\n",
       "      <td>6.600</td>\n",
       "    </tr>\n",
       "    <tr>\n",
       "      <th>11586</th>\n",
       "      <td>tm98015</td>\n",
       "      <td>The Last Song</td>\n",
       "      <td>MOVIE</td>\n",
       "      <td>A drama centered on a rebellious girl who is s...</td>\n",
       "      <td>2010</td>\n",
       "      <td>PG</td>\n",
       "      <td>107</td>\n",
       "      <td>['drama', 'romance', 'music']</td>\n",
       "      <td>['US']</td>\n",
       "      <td>NaN</td>\n",
       "      <td>tt1294226</td>\n",
       "      <td>6.0</td>\n",
       "      <td>89378.0</td>\n",
       "      <td>15.081</td>\n",
       "      <td>7.242</td>\n",
       "    </tr>\n",
       "    <tr>\n",
       "      <th>11613</th>\n",
       "      <td>ts22233</td>\n",
       "      <td>Shake It Up</td>\n",
       "      <td>SHOW</td>\n",
       "      <td>Best pals CeCe and Rocky dream of dancing star...</td>\n",
       "      <td>2010</td>\n",
       "      <td>TV-G</td>\n",
       "      <td>25</td>\n",
       "      <td>['comedy', 'family']</td>\n",
       "      <td>['US']</td>\n",
       "      <td>3.0</td>\n",
       "      <td>tt0453993</td>\n",
       "      <td>8.0</td>\n",
       "      <td>88.0</td>\n",
       "      <td>41.672</td>\n",
       "      <td>7.800</td>\n",
       "    </tr>\n",
       "    <tr>\n",
       "      <th>11822</th>\n",
       "      <td>ts7273</td>\n",
       "      <td>Doc McStuffins</td>\n",
       "      <td>SHOW</td>\n",
       "      <td>A young African-American girl aspires to be a ...</td>\n",
       "      <td>2012</td>\n",
       "      <td>TV-G</td>\n",
       "      <td>22</td>\n",
       "      <td>['animation', 'family', 'fantasy', 'music']</td>\n",
       "      <td>['US']</td>\n",
       "      <td>6.0</td>\n",
       "      <td>tt1710295</td>\n",
       "      <td>6.6</td>\n",
       "      <td>2551.0</td>\n",
       "      <td>35.228</td>\n",
       "      <td>5.800</td>\n",
       "    </tr>\n",
       "  </tbody>\n",
       "</table>\n",
       "</div>"
      ],
      "text/plain": [
       "            id              title   type  \\\n",
       "11321  tm57241  Never Been Kissed  MOVIE   \n",
       "11387  ts22130   Rolie Polie Olie   SHOW   \n",
       "11586  tm98015      The Last Song  MOVIE   \n",
       "11613  ts22233        Shake It Up   SHOW   \n",
       "11822   ts7273     Doc McStuffins   SHOW   \n",
       "\n",
       "                                             description  release_year  \\\n",
       "11321  Josie Geller, a baby-faced junior copywriter a...          1999   \n",
       "11387  Rolie Polie Olie was a children's television s...          1998   \n",
       "11586  A drama centered on a rebellious girl who is s...          2010   \n",
       "11613  Best pals CeCe and Rocky dream of dancing star...          2010   \n",
       "11822  A young African-American girl aspires to be a ...          2012   \n",
       "\n",
       "      age_certification  runtime  \\\n",
       "11321             PG-13      107   \n",
       "11387              TV-Y       21   \n",
       "11586                PG      107   \n",
       "11613              TV-G       25   \n",
       "11822              TV-G       22   \n",
       "\n",
       "                                                  genres  \\\n",
       "11321                     ['comedy', 'drama', 'romance']   \n",
       "11387  ['animation', 'comedy', 'family', 'fantasy', '...   \n",
       "11586                      ['drama', 'romance', 'music']   \n",
       "11613                               ['comedy', 'family']   \n",
       "11822        ['animation', 'family', 'fantasy', 'music']   \n",
       "\n",
       "           production_countries  seasons    imdb_id  imdb_score  imdb_votes  \\\n",
       "11321                    ['US']      NaN  tt0151738         6.0     93238.0   \n",
       "11387  ['CA', 'FR', 'US', 'GB']      6.0  tt0172049         6.3      3012.0   \n",
       "11586                    ['US']      NaN  tt1294226         6.0     89378.0   \n",
       "11613                    ['US']      3.0  tt0453993         8.0        88.0   \n",
       "11822                    ['US']      6.0  tt1710295         6.6      2551.0   \n",
       "\n",
       "       tmdb_popularity  tmdb_score  \n",
       "11321           17.420       6.180  \n",
       "11387           13.848       6.600  \n",
       "11586           15.081       7.242  \n",
       "11613           41.672       7.800  \n",
       "11822           35.228       5.800  "
      ]
     },
     "execution_count": 16,
     "metadata": {},
     "output_type": "execute_result"
    }
   ],
   "source": [
    "# Seeing if we have duplicates\n",
    "titles[titles.duplicated() == True].head(5)"
   ]
  },
  {
   "cell_type": "code",
   "execution_count": 17,
   "id": "0e34bd9b",
   "metadata": {},
   "outputs": [
    {
     "data": {
      "text/plain": [
       "(23362, 15)"
      ]
     },
     "execution_count": 17,
     "metadata": {},
     "output_type": "execute_result"
    }
   ],
   "source": [
    "# Dropping duplicates\n",
    "titles.drop_duplicates(inplace=True)\n",
    "titles.shape"
   ]
  },
  {
   "cell_type": "code",
   "execution_count": 18,
   "id": "45d7878c",
   "metadata": {},
   "outputs": [],
   "source": [
    "# define a function to get all the information needed\n",
    "def information_func(titles):\n",
    "    print('dataset info')\n",
    "    titles.info()\n",
    "    print('-----'*10)\n",
    "    null = titles.isnull().sum()\n",
    "    print(\"missing values:\\n\", null)\n",
    "    print('-----'*10)"
   ]
  },
  {
   "cell_type": "code",
   "execution_count": 19,
   "id": "1ef9dfd3",
   "metadata": {},
   "outputs": [
    {
     "name": "stdout",
     "output_type": "stream",
     "text": [
      "dataset info\n",
      "<class 'pandas.core.frame.DataFrame'>\n",
      "Int64Index: 23362 entries, 0 to 25245\n",
      "Data columns (total 15 columns):\n",
      " #   Column                Non-Null Count  Dtype  \n",
      "---  ------                --------------  -----  \n",
      " 0   id                    23362 non-null  object \n",
      " 1   title                 23362 non-null  object \n",
      " 2   type                  23362 non-null  object \n",
      " 3   description           23167 non-null  object \n",
      " 4   release_year          23362 non-null  int64  \n",
      " 5   age_certification     11381 non-null  object \n",
      " 6   runtime               23362 non-null  int64  \n",
      " 7   genres                23362 non-null  object \n",
      " 8   production_countries  23362 non-null  object \n",
      " 9   seasons               5623 non-null   float64\n",
      " 10  imdb_id               21412 non-null  object \n",
      " 11  imdb_score            20804 non-null  float64\n",
      " 12  imdb_votes            20744 non-null  float64\n",
      " 13  tmdb_popularity       22642 non-null  float64\n",
      " 14  tmdb_score            20362 non-null  float64\n",
      "dtypes: float64(5), int64(2), object(8)\n",
      "memory usage: 2.9+ MB\n",
      "--------------------------------------------------\n",
      "missing values:\n",
      " id                          0\n",
      "title                       0\n",
      "type                        0\n",
      "description               195\n",
      "release_year                0\n",
      "age_certification       11981\n",
      "runtime                     0\n",
      "genres                      0\n",
      "production_countries        0\n",
      "seasons                 17739\n",
      "imdb_id                  1950\n",
      "imdb_score               2558\n",
      "imdb_votes               2618\n",
      "tmdb_popularity           720\n",
      "tmdb_score               3000\n",
      "dtype: int64\n",
      "--------------------------------------------------\n"
     ]
    }
   ],
   "source": [
    "information_func(titles)"
   ]
  },
  {
   "cell_type": "markdown",
   "id": "5c79d595",
   "metadata": {},
   "source": [
    "### Handling the 'genres' and 'production_countries' columns\n",
    "### These two columns are formed by list values, so we need to handle these values to work with a single value."
   ]
  },
  {
   "cell_type": "code",
   "execution_count": 20,
   "id": "2259a6c9",
   "metadata": {},
   "outputs": [
    {
     "name": "stderr",
     "output_type": "stream",
     "text": [
      "/var/folders/4c/y8mf6l556c988n46dnt19ybh0000gn/T/ipykernel_7762/1444428491.py:1: FutureWarning: The default value of regex will change from True to False in a future version. In addition, single character regular expressions will *not* be treated as literal strings when regex=True.\n",
      "  titles['genres'] = titles['genres'].str.replace(r'[','').str.replace(r\"'\",'').str.replace(r']','')\n",
      "/var/folders/4c/y8mf6l556c988n46dnt19ybh0000gn/T/ipykernel_7762/1444428491.py:5: FutureWarning: The default value of regex will change from True to False in a future version. In addition, single character regular expressions will *not* be treated as literal strings when regex=True.\n",
      "  titles['production_countries'] = titles['production_countries'].str.replace(r\"[\", '').str.replace(r\"'\", '').str.replace(r\"]\", '')\n"
     ]
    }
   ],
   "source": [
    "titles['genres'] = titles['genres'].str.replace(r'[','').str.replace(r\"'\",'').str.replace(r']','')\n",
    "titles['genre'] = titles['genres'].str.split(',').str[0]\n",
    "\n",
    "\n",
    "titles['production_countries'] = titles['production_countries'].str.replace(r\"[\", '').str.replace(r\"'\", '').str.replace(r\"]\", '')\n",
    "titles['production_country'] = titles['production_countries'].str.split(',').str[0]\n"
   ]
  },
  {
   "cell_type": "code",
   "execution_count": 22,
   "id": "96786809",
   "metadata": {},
   "outputs": [],
   "source": [
    "titles.drop(['genres','production_countries'],axis=1,inplace=True)"
   ]
  },
  {
   "cell_type": "code",
   "execution_count": 28,
   "id": "0ea2fb7a",
   "metadata": {},
   "outputs": [
    {
     "data": {
      "text/plain": [
       "array(['drama', 'comedy', 'western', 'romance', 'action', 'fantasy',\n",
       "       'horror', 'thriller', 'documentation', 'music', 'crime', '', 'war',\n",
       "       'reality', 'scifi', 'history', 'family', 'animation', 'sport',\n",
       "       'european'], dtype=object)"
      ]
     },
     "execution_count": 28,
     "metadata": {},
     "output_type": "execute_result"
    }
   ],
   "source": [
    "titles['genre'].unique()"
   ]
  },
  {
   "cell_type": "code",
   "execution_count": 29,
   "id": "8083d2e4",
   "metadata": {},
   "outputs": [],
   "source": [
    "titles['genre'] = titles['genre'].replace('', np.nan)\n",
    "titles['production_country'] = titles['production_country'].replace('',np.nan)\n"
   ]
  },
  {
   "cell_type": "code",
   "execution_count": 30,
   "id": "dee7496f",
   "metadata": {},
   "outputs": [
    {
     "data": {
      "text/plain": [
       "367"
      ]
     },
     "execution_count": 30,
     "metadata": {},
     "output_type": "execute_result"
    }
   ],
   "source": [
    "titles.genre.isnull().sum()"
   ]
  },
  {
   "cell_type": "markdown",
   "id": "b967b022",
   "metadata": {},
   "source": [
    "# season column"
   ]
  },
  {
   "cell_type": "markdown",
   "id": "cba2a6ce",
   "metadata": {},
   "source": [
    "- the movie type is nan in season columns so i am going to change the movie type nan in season to 0 no of season\n"
   ]
  },
  {
   "cell_type": "code",
   "execution_count": 31,
   "id": "29b89043",
   "metadata": {},
   "outputs": [],
   "source": [
    "titles['seasons'].fillna(0,inplace=True)"
   ]
  },
  {
   "cell_type": "markdown",
   "id": "28a91b40",
   "metadata": {},
   "source": [
    "# Missing Data"
   ]
  },
  {
   "cell_type": "code",
   "execution_count": 32,
   "id": "e6888c6d",
   "metadata": {},
   "outputs": [
    {
     "data": {
      "text/plain": [
       "id                        0\n",
       "title                     0\n",
       "type                      0\n",
       "description             195\n",
       "release_year              0\n",
       "age_certification     11981\n",
       "runtime                   0\n",
       "seasons                   0\n",
       "imdb_id                1950\n",
       "imdb_score             2558\n",
       "imdb_votes             2618\n",
       "tmdb_popularity         720\n",
       "tmdb_score             3000\n",
       "genre                   367\n",
       "production_country     1049\n",
       "dtype: int64"
      ]
     },
     "execution_count": 32,
     "metadata": {},
     "output_type": "execute_result"
    }
   ],
   "source": [
    "titles.isnull().sum()"
   ]
  },
  {
   "cell_type": "code",
   "execution_count": 33,
   "id": "bbfd5b02",
   "metadata": {},
   "outputs": [],
   "source": [
    "titles.drop(['imdb_id','age_certification'], axis=1,inplace=True)"
   ]
  },
  {
   "cell_type": "code",
   "execution_count": 34,
   "id": "82489158",
   "metadata": {},
   "outputs": [],
   "source": [
    "titles.dropna(inplace=True)"
   ]
  },
  {
   "cell_type": "code",
   "execution_count": 35,
   "id": "997dadfd",
   "metadata": {},
   "outputs": [
    {
     "data": {
      "text/plain": [
       "(18374, 13)"
      ]
     },
     "execution_count": 35,
     "metadata": {},
     "output_type": "execute_result"
    }
   ],
   "source": [
    "titles.shape"
   ]
  },
  {
   "cell_type": "code",
   "execution_count": 36,
   "id": "54c30585",
   "metadata": {},
   "outputs": [
    {
     "data": {
      "text/html": [
       "<div>\n",
       "<style scoped>\n",
       "    .dataframe tbody tr th:only-of-type {\n",
       "        vertical-align: middle;\n",
       "    }\n",
       "\n",
       "    .dataframe tbody tr th {\n",
       "        vertical-align: top;\n",
       "    }\n",
       "\n",
       "    .dataframe thead th {\n",
       "        text-align: right;\n",
       "    }\n",
       "</style>\n",
       "<table border=\"1\" class=\"dataframe\">\n",
       "  <thead>\n",
       "    <tr style=\"text-align: right;\">\n",
       "      <th></th>\n",
       "      <th>id</th>\n",
       "      <th>title</th>\n",
       "      <th>type</th>\n",
       "      <th>description</th>\n",
       "      <th>release_year</th>\n",
       "      <th>runtime</th>\n",
       "      <th>seasons</th>\n",
       "      <th>imdb_score</th>\n",
       "      <th>imdb_votes</th>\n",
       "      <th>tmdb_popularity</th>\n",
       "      <th>tmdb_score</th>\n",
       "      <th>genre</th>\n",
       "      <th>production_country</th>\n",
       "    </tr>\n",
       "  </thead>\n",
       "  <tbody>\n",
       "    <tr>\n",
       "      <th>0</th>\n",
       "      <td>tm87233</td>\n",
       "      <td>It's a Wonderful Life</td>\n",
       "      <td>MOVIE</td>\n",
       "      <td>A holiday favourite for generations...  George...</td>\n",
       "      <td>1946</td>\n",
       "      <td>130</td>\n",
       "      <td>0.0</td>\n",
       "      <td>8.6</td>\n",
       "      <td>467766.0</td>\n",
       "      <td>27.611</td>\n",
       "      <td>8.261</td>\n",
       "      <td>drama</td>\n",
       "      <td>US</td>\n",
       "    </tr>\n",
       "    <tr>\n",
       "      <th>1</th>\n",
       "      <td>tm143047</td>\n",
       "      <td>Duck Soup</td>\n",
       "      <td>MOVIE</td>\n",
       "      <td>Rufus T. Firefly is named president/dictator o...</td>\n",
       "      <td>1933</td>\n",
       "      <td>69</td>\n",
       "      <td>0.0</td>\n",
       "      <td>7.8</td>\n",
       "      <td>60933.0</td>\n",
       "      <td>9.013</td>\n",
       "      <td>7.357</td>\n",
       "      <td>comedy</td>\n",
       "      <td>US</td>\n",
       "    </tr>\n",
       "    <tr>\n",
       "      <th>2</th>\n",
       "      <td>tm83884</td>\n",
       "      <td>His Girl Friday</td>\n",
       "      <td>MOVIE</td>\n",
       "      <td>Hildy, the journalist former wife of newspaper...</td>\n",
       "      <td>1940</td>\n",
       "      <td>92</td>\n",
       "      <td>0.0</td>\n",
       "      <td>7.8</td>\n",
       "      <td>60244.0</td>\n",
       "      <td>14.759</td>\n",
       "      <td>7.433</td>\n",
       "      <td>drama</td>\n",
       "      <td>US</td>\n",
       "    </tr>\n",
       "    <tr>\n",
       "      <th>3</th>\n",
       "      <td>ts20945</td>\n",
       "      <td>The Three Stooges</td>\n",
       "      <td>SHOW</td>\n",
       "      <td>The Three Stooges were an American vaudeville ...</td>\n",
       "      <td>1934</td>\n",
       "      <td>19</td>\n",
       "      <td>26.0</td>\n",
       "      <td>8.5</td>\n",
       "      <td>1149.0</td>\n",
       "      <td>15.424</td>\n",
       "      <td>7.600</td>\n",
       "      <td>comedy</td>\n",
       "      <td>US</td>\n",
       "    </tr>\n",
       "    <tr>\n",
       "      <th>4</th>\n",
       "      <td>tm5012</td>\n",
       "      <td>Red River</td>\n",
       "      <td>MOVIE</td>\n",
       "      <td>Headstrong Thomas Dunson starts a thriving Tex...</td>\n",
       "      <td>1948</td>\n",
       "      <td>133</td>\n",
       "      <td>0.0</td>\n",
       "      <td>7.8</td>\n",
       "      <td>32210.0</td>\n",
       "      <td>12.400</td>\n",
       "      <td>7.400</td>\n",
       "      <td>western</td>\n",
       "      <td>US</td>\n",
       "    </tr>\n",
       "  </tbody>\n",
       "</table>\n",
       "</div>"
      ],
      "text/plain": [
       "         id                  title   type  \\\n",
       "0   tm87233  It's a Wonderful Life  MOVIE   \n",
       "1  tm143047              Duck Soup  MOVIE   \n",
       "2   tm83884        His Girl Friday  MOVIE   \n",
       "3   ts20945      The Three Stooges   SHOW   \n",
       "4    tm5012              Red River  MOVIE   \n",
       "\n",
       "                                         description  release_year  runtime  \\\n",
       "0  A holiday favourite for generations...  George...          1946      130   \n",
       "1  Rufus T. Firefly is named president/dictator o...          1933       69   \n",
       "2  Hildy, the journalist former wife of newspaper...          1940       92   \n",
       "3  The Three Stooges were an American vaudeville ...          1934       19   \n",
       "4  Headstrong Thomas Dunson starts a thriving Tex...          1948      133   \n",
       "\n",
       "   seasons  imdb_score  imdb_votes  tmdb_popularity  tmdb_score    genre  \\\n",
       "0      0.0         8.6    467766.0           27.611       8.261    drama   \n",
       "1      0.0         7.8     60933.0            9.013       7.357   comedy   \n",
       "2      0.0         7.8     60244.0           14.759       7.433    drama   \n",
       "3     26.0         8.5      1149.0           15.424       7.600   comedy   \n",
       "4      0.0         7.8     32210.0           12.400       7.400  western   \n",
       "\n",
       "  production_country  \n",
       "0                 US  \n",
       "1                 US  \n",
       "2                 US  \n",
       "3                 US  \n",
       "4                 US  "
      ]
     },
     "execution_count": 36,
     "metadata": {},
     "output_type": "execute_result"
    }
   ],
   "source": [
    "titles.head()"
   ]
  },
  {
   "cell_type": "markdown",
   "id": "3df18e5a",
   "metadata": {},
   "source": [
    "# Content Based Recommender\n"
   ]
  },
  {
   "cell_type": "markdown",
   "id": "c1ff11d8",
   "metadata": {},
   "source": [
    "- In this kernel, we will build a recommendation system based on the description of titles and genre. We will calculate pairwise similarity scores for all movies/tv shows based on their descriptions and recommend titles with similar scores."
   ]
  },
  {
   "cell_type": "code",
   "execution_count": 37,
   "id": "ac98c5f7",
   "metadata": {},
   "outputs": [],
   "source": [
    "# streaming_platform column to present where the titles are available.\n",
    "lt = []\n",
    "for i in titles['id']:\n",
    "    movie_streaming = []\n",
    "    if i in amazon_titles['id'].values:\n",
    "        movie_streaming.append('amazon')\n",
    "    if i in appletv_titles['id'].values:\n",
    "        movie_streaming.append('appletv')\n",
    "    if i in disney_titles['id'].values:\n",
    "        movie_streaming.append('disney+')\n",
    "    if i in hbo_titles['id'].values:\n",
    "        movie_streaming.append('hbomax')\n",
    "    if i in netflix_titles['id'].values:\n",
    "        movie_streaming.append('netflix')\n",
    "    if i in paramount_titles['id'].values:\n",
    "        movie_streaming.append('paramount+')\n",
    "    lt.append(movie_streaming)"
   ]
  },
  {
   "cell_type": "code",
   "execution_count": 38,
   "id": "33ab0eba",
   "metadata": {},
   "outputs": [],
   "source": [
    "titles['streaming_platform'] = lt"
   ]
  },
  {
   "cell_type": "code",
   "execution_count": 40,
   "id": "e9f0ca27",
   "metadata": {},
   "outputs": [
    {
     "data": {
      "text/html": [
       "<div>\n",
       "<style scoped>\n",
       "    .dataframe tbody tr th:only-of-type {\n",
       "        vertical-align: middle;\n",
       "    }\n",
       "\n",
       "    .dataframe tbody tr th {\n",
       "        vertical-align: top;\n",
       "    }\n",
       "\n",
       "    .dataframe thead th {\n",
       "        text-align: right;\n",
       "    }\n",
       "</style>\n",
       "<table border=\"1\" class=\"dataframe\">\n",
       "  <thead>\n",
       "    <tr style=\"text-align: right;\">\n",
       "      <th></th>\n",
       "      <th>id</th>\n",
       "      <th>title</th>\n",
       "      <th>type</th>\n",
       "      <th>description</th>\n",
       "      <th>release_year</th>\n",
       "      <th>runtime</th>\n",
       "      <th>seasons</th>\n",
       "      <th>imdb_score</th>\n",
       "      <th>imdb_votes</th>\n",
       "      <th>tmdb_popularity</th>\n",
       "      <th>tmdb_score</th>\n",
       "      <th>genre</th>\n",
       "      <th>production_country</th>\n",
       "      <th>streaming_platform</th>\n",
       "    </tr>\n",
       "  </thead>\n",
       "  <tbody>\n",
       "    <tr>\n",
       "      <th>0</th>\n",
       "      <td>tm87233</td>\n",
       "      <td>It's a Wonderful Life</td>\n",
       "      <td>MOVIE</td>\n",
       "      <td>A holiday favourite for generations...  George...</td>\n",
       "      <td>1946</td>\n",
       "      <td>130</td>\n",
       "      <td>0.0</td>\n",
       "      <td>8.6</td>\n",
       "      <td>467766.0</td>\n",
       "      <td>27.611</td>\n",
       "      <td>8.261</td>\n",
       "      <td>drama</td>\n",
       "      <td>US</td>\n",
       "      <td>[amazon]</td>\n",
       "    </tr>\n",
       "    <tr>\n",
       "      <th>1</th>\n",
       "      <td>tm143047</td>\n",
       "      <td>Duck Soup</td>\n",
       "      <td>MOVIE</td>\n",
       "      <td>Rufus T. Firefly is named president/dictator o...</td>\n",
       "      <td>1933</td>\n",
       "      <td>69</td>\n",
       "      <td>0.0</td>\n",
       "      <td>7.8</td>\n",
       "      <td>60933.0</td>\n",
       "      <td>9.013</td>\n",
       "      <td>7.357</td>\n",
       "      <td>comedy</td>\n",
       "      <td>US</td>\n",
       "      <td>[amazon]</td>\n",
       "    </tr>\n",
       "    <tr>\n",
       "      <th>2</th>\n",
       "      <td>tm83884</td>\n",
       "      <td>His Girl Friday</td>\n",
       "      <td>MOVIE</td>\n",
       "      <td>Hildy, the journalist former wife of newspaper...</td>\n",
       "      <td>1940</td>\n",
       "      <td>92</td>\n",
       "      <td>0.0</td>\n",
       "      <td>7.8</td>\n",
       "      <td>60244.0</td>\n",
       "      <td>14.759</td>\n",
       "      <td>7.433</td>\n",
       "      <td>drama</td>\n",
       "      <td>US</td>\n",
       "      <td>[amazon, paramount+]</td>\n",
       "    </tr>\n",
       "    <tr>\n",
       "      <th>3</th>\n",
       "      <td>ts20945</td>\n",
       "      <td>The Three Stooges</td>\n",
       "      <td>SHOW</td>\n",
       "      <td>The Three Stooges were an American vaudeville ...</td>\n",
       "      <td>1934</td>\n",
       "      <td>19</td>\n",
       "      <td>26.0</td>\n",
       "      <td>8.5</td>\n",
       "      <td>1149.0</td>\n",
       "      <td>15.424</td>\n",
       "      <td>7.600</td>\n",
       "      <td>comedy</td>\n",
       "      <td>US</td>\n",
       "      <td>[amazon]</td>\n",
       "    </tr>\n",
       "    <tr>\n",
       "      <th>4</th>\n",
       "      <td>tm5012</td>\n",
       "      <td>Red River</td>\n",
       "      <td>MOVIE</td>\n",
       "      <td>Headstrong Thomas Dunson starts a thriving Tex...</td>\n",
       "      <td>1948</td>\n",
       "      <td>133</td>\n",
       "      <td>0.0</td>\n",
       "      <td>7.8</td>\n",
       "      <td>32210.0</td>\n",
       "      <td>12.400</td>\n",
       "      <td>7.400</td>\n",
       "      <td>western</td>\n",
       "      <td>US</td>\n",
       "      <td>[amazon, paramount+]</td>\n",
       "    </tr>\n",
       "  </tbody>\n",
       "</table>\n",
       "</div>"
      ],
      "text/plain": [
       "         id                  title   type  \\\n",
       "0   tm87233  It's a Wonderful Life  MOVIE   \n",
       "1  tm143047              Duck Soup  MOVIE   \n",
       "2   tm83884        His Girl Friday  MOVIE   \n",
       "3   ts20945      The Three Stooges   SHOW   \n",
       "4    tm5012              Red River  MOVIE   \n",
       "\n",
       "                                         description  release_year  runtime  \\\n",
       "0  A holiday favourite for generations...  George...          1946      130   \n",
       "1  Rufus T. Firefly is named president/dictator o...          1933       69   \n",
       "2  Hildy, the journalist former wife of newspaper...          1940       92   \n",
       "3  The Three Stooges were an American vaudeville ...          1934       19   \n",
       "4  Headstrong Thomas Dunson starts a thriving Tex...          1948      133   \n",
       "\n",
       "   seasons  imdb_score  imdb_votes  tmdb_popularity  tmdb_score    genre  \\\n",
       "0      0.0         8.6    467766.0           27.611       8.261    drama   \n",
       "1      0.0         7.8     60933.0            9.013       7.357   comedy   \n",
       "2      0.0         7.8     60244.0           14.759       7.433    drama   \n",
       "3     26.0         8.5      1149.0           15.424       7.600   comedy   \n",
       "4      0.0         7.8     32210.0           12.400       7.400  western   \n",
       "\n",
       "  production_country    streaming_platform  \n",
       "0                 US              [amazon]  \n",
       "1                 US              [amazon]  \n",
       "2                 US  [amazon, paramount+]  \n",
       "3                 US              [amazon]  \n",
       "4                 US  [amazon, paramount+]  "
      ]
     },
     "execution_count": 40,
     "metadata": {},
     "output_type": "execute_result"
    }
   ],
   "source": [
    "titles.head()"
   ]
  },
  {
   "cell_type": "markdown",
   "id": "b569b4bd",
   "metadata": {},
   "source": [
    "# movie and show data"
   ]
  },
  {
   "cell_type": "code",
   "execution_count": 41,
   "id": "d62ab6de",
   "metadata": {},
   "outputs": [],
   "source": [
    "movies = titles[titles['type'] == 'MOVIE'].copy().reset_index()\n",
    "movies.drop(['index'], axis=1, inplace=True)\n",
    "\n",
    "shows = titles[titles['type'] == 'SHOW'].copy().reset_index()\n",
    "shows.drop(['index'], axis=1, inplace=True)"
   ]
  },
  {
   "cell_type": "code",
   "execution_count": 42,
   "id": "f4a2d0ef",
   "metadata": {},
   "outputs": [
    {
     "data": {
      "text/html": [
       "<div>\n",
       "<style scoped>\n",
       "    .dataframe tbody tr th:only-of-type {\n",
       "        vertical-align: middle;\n",
       "    }\n",
       "\n",
       "    .dataframe tbody tr th {\n",
       "        vertical-align: top;\n",
       "    }\n",
       "\n",
       "    .dataframe thead th {\n",
       "        text-align: right;\n",
       "    }\n",
       "</style>\n",
       "<table border=\"1\" class=\"dataframe\">\n",
       "  <thead>\n",
       "    <tr style=\"text-align: right;\">\n",
       "      <th></th>\n",
       "      <th>id</th>\n",
       "      <th>title</th>\n",
       "      <th>type</th>\n",
       "      <th>description</th>\n",
       "      <th>release_year</th>\n",
       "      <th>runtime</th>\n",
       "      <th>seasons</th>\n",
       "      <th>imdb_score</th>\n",
       "      <th>imdb_votes</th>\n",
       "      <th>tmdb_popularity</th>\n",
       "      <th>tmdb_score</th>\n",
       "      <th>genre</th>\n",
       "      <th>production_country</th>\n",
       "      <th>streaming_platform</th>\n",
       "    </tr>\n",
       "  </thead>\n",
       "  <tbody>\n",
       "    <tr>\n",
       "      <th>0</th>\n",
       "      <td>tm87233</td>\n",
       "      <td>It's a Wonderful Life</td>\n",
       "      <td>MOVIE</td>\n",
       "      <td>A holiday favourite for generations...  George...</td>\n",
       "      <td>1946</td>\n",
       "      <td>130</td>\n",
       "      <td>0.0</td>\n",
       "      <td>8.6</td>\n",
       "      <td>467766.0</td>\n",
       "      <td>27.611</td>\n",
       "      <td>8.261</td>\n",
       "      <td>drama</td>\n",
       "      <td>US</td>\n",
       "      <td>[amazon]</td>\n",
       "    </tr>\n",
       "    <tr>\n",
       "      <th>1</th>\n",
       "      <td>tm143047</td>\n",
       "      <td>Duck Soup</td>\n",
       "      <td>MOVIE</td>\n",
       "      <td>Rufus T. Firefly is named president/dictator o...</td>\n",
       "      <td>1933</td>\n",
       "      <td>69</td>\n",
       "      <td>0.0</td>\n",
       "      <td>7.8</td>\n",
       "      <td>60933.0</td>\n",
       "      <td>9.013</td>\n",
       "      <td>7.357</td>\n",
       "      <td>comedy</td>\n",
       "      <td>US</td>\n",
       "      <td>[amazon]</td>\n",
       "    </tr>\n",
       "    <tr>\n",
       "      <th>2</th>\n",
       "      <td>tm83884</td>\n",
       "      <td>His Girl Friday</td>\n",
       "      <td>MOVIE</td>\n",
       "      <td>Hildy, the journalist former wife of newspaper...</td>\n",
       "      <td>1940</td>\n",
       "      <td>92</td>\n",
       "      <td>0.0</td>\n",
       "      <td>7.8</td>\n",
       "      <td>60244.0</td>\n",
       "      <td>14.759</td>\n",
       "      <td>7.433</td>\n",
       "      <td>drama</td>\n",
       "      <td>US</td>\n",
       "      <td>[amazon, paramount+]</td>\n",
       "    </tr>\n",
       "    <tr>\n",
       "      <th>3</th>\n",
       "      <td>tm5012</td>\n",
       "      <td>Red River</td>\n",
       "      <td>MOVIE</td>\n",
       "      <td>Headstrong Thomas Dunson starts a thriving Tex...</td>\n",
       "      <td>1948</td>\n",
       "      <td>133</td>\n",
       "      <td>0.0</td>\n",
       "      <td>7.8</td>\n",
       "      <td>32210.0</td>\n",
       "      <td>12.400</td>\n",
       "      <td>7.400</td>\n",
       "      <td>western</td>\n",
       "      <td>US</td>\n",
       "      <td>[amazon, paramount+]</td>\n",
       "    </tr>\n",
       "    <tr>\n",
       "      <th>4</th>\n",
       "      <td>tm82253</td>\n",
       "      <td>The Best Years of Our Lives</td>\n",
       "      <td>MOVIE</td>\n",
       "      <td>It's the hope that sustains the spirit of ever...</td>\n",
       "      <td>1947</td>\n",
       "      <td>171</td>\n",
       "      <td>0.0</td>\n",
       "      <td>8.1</td>\n",
       "      <td>66209.0</td>\n",
       "      <td>16.056</td>\n",
       "      <td>7.838</td>\n",
       "      <td>drama</td>\n",
       "      <td>US</td>\n",
       "      <td>[amazon]</td>\n",
       "    </tr>\n",
       "  </tbody>\n",
       "</table>\n",
       "</div>"
      ],
      "text/plain": [
       "         id                        title   type  \\\n",
       "0   tm87233        It's a Wonderful Life  MOVIE   \n",
       "1  tm143047                    Duck Soup  MOVIE   \n",
       "2   tm83884              His Girl Friday  MOVIE   \n",
       "3    tm5012                    Red River  MOVIE   \n",
       "4   tm82253  The Best Years of Our Lives  MOVIE   \n",
       "\n",
       "                                         description  release_year  runtime  \\\n",
       "0  A holiday favourite for generations...  George...          1946      130   \n",
       "1  Rufus T. Firefly is named president/dictator o...          1933       69   \n",
       "2  Hildy, the journalist former wife of newspaper...          1940       92   \n",
       "3  Headstrong Thomas Dunson starts a thriving Tex...          1948      133   \n",
       "4  It's the hope that sustains the spirit of ever...          1947      171   \n",
       "\n",
       "   seasons  imdb_score  imdb_votes  tmdb_popularity  tmdb_score    genre  \\\n",
       "0      0.0         8.6    467766.0           27.611       8.261    drama   \n",
       "1      0.0         7.8     60933.0            9.013       7.357   comedy   \n",
       "2      0.0         7.8     60244.0           14.759       7.433    drama   \n",
       "3      0.0         7.8     32210.0           12.400       7.400  western   \n",
       "4      0.0         8.1     66209.0           16.056       7.838    drama   \n",
       "\n",
       "  production_country    streaming_platform  \n",
       "0                 US              [amazon]  \n",
       "1                 US              [amazon]  \n",
       "2                 US  [amazon, paramount+]  \n",
       "3                 US  [amazon, paramount+]  \n",
       "4                 US              [amazon]  "
      ]
     },
     "execution_count": 42,
     "metadata": {},
     "output_type": "execute_result"
    }
   ],
   "source": [
    "movies.head()"
   ]
  },
  {
   "cell_type": "code",
   "execution_count": 45,
   "id": "f49ceb9b",
   "metadata": {},
   "outputs": [
    {
     "name": "stdout",
     "output_type": "stream",
     "text": [
      "Shape for Movies: (13831, 35074)\n",
      "Shape for Shows: (4543, 19365)\n"
     ]
    }
   ],
   "source": [
    "#Define a TF-IDF Vectorizer Object. \n",
    "#This remove all english stop words such as 'the', 'a'\n",
    "tfidf = TfidfVectorizer(stop_words='english')\n",
    "\n",
    "#Construct the required TF-IDF matrix by fitting and transforming the data\n",
    "tfidf_matrix_movies = tfidf.fit_transform(movies['description'])\n",
    "tfidf_matrix_shows = tfidf.fit_transform(shows['description'])\n",
    "\n",
    "#Output the shape of tfidf_matrix\n",
    "print(f'Shape for Movies: {tfidf_matrix_movies.shape}')\n",
    "print(f'Shape for Shows: {tfidf_matrix_shows.shape}')"
   ]
  },
  {
   "cell_type": "code",
   "execution_count": 46,
   "id": "3009a5d9",
   "metadata": {},
   "outputs": [],
   "source": [
    "# Compute the cosine similarity matrix\n",
    "cosine_sim_movies = linear_kernel(tfidf_matrix_movies, tfidf_matrix_movies)\n",
    "cosine_sim_shows = linear_kernel(tfidf_matrix_shows, tfidf_matrix_shows)"
   ]
  },
  {
   "cell_type": "code",
   "execution_count": 51,
   "id": "ff937677",
   "metadata": {},
   "outputs": [],
   "source": [
    "# Now we create a way to identify the index of a movie/show in our data, given its title.\n",
    "indices_movies = pd.Series(movies.index, index=movies['title'])\n",
    "indices_shows = pd.Series(shows.index, index=shows['title'])\n"
   ]
  },
  {
   "cell_type": "code",
   "execution_count": 53,
   "id": "a1190861",
   "metadata": {},
   "outputs": [
    {
     "data": {
      "text/plain": [
       "title\n",
       "It's a Wonderful Life          0\n",
       "Duck Soup                      1\n",
       "His Girl Friday                2\n",
       "Red River                      3\n",
       "The Best Years of Our Lives    4\n",
       "dtype: int64"
      ]
     },
     "execution_count": 53,
     "metadata": {},
     "output_type": "execute_result"
    }
   ],
   "source": [
    "indices_movies.head()"
   ]
  },
  {
   "cell_type": "code",
   "execution_count": 54,
   "id": "18a9c2a4",
   "metadata": {},
   "outputs": [],
   "source": [
    "def get_title(title,indices):\n",
    "    \"\"\"\n",
    "    Function that gets the 'index searcher' and searches\n",
    "    the user's title index.\n",
    "    \"\"\"\n",
    "    \n",
    "    try:\n",
    "        index = indices[title]\n",
    "    except:\n",
    "        print(\"\\n  Title not found\")\n",
    "        return None\n",
    "\n",
    "    if isinstance(index, np.int64):\n",
    "        return index\n",
    "    \n",
    "    else:\n",
    "        rt = 0\n",
    "        print(\"Select a title: \")\n",
    "        for i in range(len(index)):\n",
    "            print(f\"{i} - {movies['title'].iloc[index[i]]}\", end=' ')\n",
    "            print(f\"({movies['release_year'].iloc[index[i]]})\")\n",
    "        rt = int(input())\n",
    "        return index[rt]"
   ]
  },
  {
   "cell_type": "code",
   "execution_count": 55,
   "id": "634324f1",
   "metadata": {},
   "outputs": [],
   "source": [
    "# functions that accept a movie/show title as input and produce a list of the 10 most similar titles.\n"
   ]
  },
  {
   "cell_type": "code",
   "execution_count": 56,
   "id": "3b0997b2",
   "metadata": {},
   "outputs": [],
   "source": [
    "def get_recommendations_movie(title, cosine_sim=cosine_sim_movies):   \n",
    "    \n",
    "    title = get_title(title, indices_movies)\n",
    "    if title == None:\n",
    "        return \n",
    "    \n",
    "    idx = indices_movies[title]\n",
    "      \n",
    "    print(f\"Title: {movies['title'].iloc[idx]} |  Year: {movies['release_year'].iloc[idx]}\")\n",
    "\n",
    "    print('**' * 40)\n",
    "\n",
    "    # Get the pairwsie similarity scores of all movies with that movie\n",
    "    sim_scores = list(enumerate(cosine_sim[idx]))\n",
    "\n",
    "    # Sort the movies based on the similarity scores\n",
    "    sim_scores = sorted(sim_scores, key=lambda x: x[1], reverse=True)\n",
    "\n",
    "    # Get the scores of the 10 most similar movies\n",
    "    sim_scores = sim_scores[1:11]\n",
    "\n",
    "    # Get the movie indices\n",
    "    movie_indices = [i[0] for i in sim_scores]\n",
    "\n",
    "    print(movies[['title', 'release_year','streaming_platform']].iloc[movie_indices])\n",
    "\n",
    "    print('**' * 40)\n",
    "\n",
    "\n",
    "    "
   ]
  },
  {
   "cell_type": "code",
   "execution_count": 57,
   "id": "d0ad8cf9",
   "metadata": {},
   "outputs": [],
   "source": [
    "def get_recommendations_show(title, cosine_sim=cosine_sim_shows):  \n",
    "    \n",
    "    title = get_title(title, indices_shows)\n",
    "    if title == None:\n",
    "        return \n",
    "    \n",
    "    idx = indices_shows[title]\n",
    "      \n",
    "    print(f\"Title: {shows['title'].iloc[idx]} |  Year: {shows['release_year'].iloc[idx]}\")\n",
    "\n",
    "    print('**' * 40)\n",
    "\n",
    "    # Get the pairwsie similarity scores of all shows with that movie\n",
    "    sim_scores = list(enumerate(cosine_sim[idx]))\n",
    "\n",
    "    # Sort the shows based on the similarity scores\n",
    "    sim_scores = sorted(sim_scores, key=lambda x: x[1], reverse=True)\n",
    "\n",
    "    # Get the scores of the 10 most similar shows\n",
    "    sim_scores = sim_scores[1:11]\n",
    "\n",
    "    # Get the shows indices\n",
    "    shows_indices = [i[0] for i in sim_scores]\n",
    "\n",
    "    print(shows[['title', 'release_year','streaming_platform']].iloc[shows_indices])\n",
    "\n",
    "    print('**' * 40)"
   ]
  },
  {
   "cell_type": "code",
   "execution_count": 58,
   "id": "084531bf",
   "metadata": {},
   "outputs": [
    {
     "name": "stdout",
     "output_type": "stream",
     "text": [
      "Title: Red River |  Year: 1948\n",
      "********************************************************************************\n",
      "                           title  release_year    streaming_platform\n",
      "596              The Dude Ranger          1934              [amazon]\n",
      "1060          High School Caesar          1960  [amazon, paramount+]\n",
      "725                 Roarin' Lead          1936  [amazon, paramount+]\n",
      "257            Randy Rides Alone          1934  [amazon, paramount+]\n",
      "2113    Godkiller: Walk Among Us          2010              [amazon]\n",
      "581           Hop-a-long Cassidy          1935  [amazon, paramount+]\n",
      "13205                   Big Jake          1971          [paramount+]\n",
      "2922                    Grinders          2011              [amazon]\n",
      "708    Springtime in the Rockies          1937  [amazon, paramount+]\n",
      "13342                    Rob Roy          1995          [paramount+]\n",
      "********************************************************************************\n"
     ]
    }
   ],
   "source": [
    "get_recommendations_movie('Red River')"
   ]
  },
  {
   "cell_type": "code",
   "execution_count": 59,
   "id": "f1269281",
   "metadata": {},
   "outputs": [
    {
     "name": "stdout",
     "output_type": "stream",
     "text": [
      "Title: The Three Stooges |  Year: 1934\n",
      "********************************************************************************\n",
      "                                 title  release_year streaming_platform\n",
      "1616                     Tom and Jerry          1940           [hbomax]\n",
      "4205                           KaBlam!          1996       [paramount+]\n",
      "1558                  Welcome to Earth          2021          [disney+]\n",
      "1547                Star Wars: Visions          2021          [disney+]\n",
      "1185                 Schoolhouse Rock!          1973          [disney+]\n",
      "3979                   Feels Like Ishq          2021          [netflix]\n",
      "3844  Rilakkuma's Theme Park Adventure          2022          [netflix]\n",
      "3406                   Paava Kadhaigal          2020          [netflix]\n",
      "504            The New Yorker Presents          2016           [amazon]\n",
      "1229                           Bonkers          1993          [disney+]\n",
      "********************************************************************************\n"
     ]
    }
   ],
   "source": [
    "get_recommendations_show('The Three Stooges')"
   ]
  },
  {
   "cell_type": "markdown",
   "id": "aea4ab5c",
   "metadata": {},
   "source": [
    "# In this project i was able to build a recommendation system using different streaming platform.\n",
    "- i got top 10 recommendation for movie and show using content based method by calculating the cosine similarity"
   ]
  },
  {
   "cell_type": "code",
   "execution_count": null,
   "id": "dc1ab359",
   "metadata": {},
   "outputs": [],
   "source": []
  }
 ],
 "metadata": {
  "kernelspec": {
   "display_name": "Python 3 (ipykernel)",
   "language": "python",
   "name": "python3"
  },
  "language_info": {
   "codemirror_mode": {
    "name": "ipython",
    "version": 3
   },
   "file_extension": ".py",
   "mimetype": "text/x-python",
   "name": "python",
   "nbconvert_exporter": "python",
   "pygments_lexer": "ipython3",
   "version": "3.9.13"
  }
 },
 "nbformat": 4,
 "nbformat_minor": 5
}
